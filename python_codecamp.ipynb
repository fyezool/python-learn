{
  "nbformat": 4,
  "nbformat_minor": 0,
  "metadata": {
    "colab": {
      "name": "python-codecamp.ipynb",
      "version": "0.3.2",
      "provenance": [],
      "collapsed_sections": [
        "M8BfqObZWj2w",
        "6ttfJI7G_K6O",
        "C2l4WLVvCNAC",
        "-AaDnd_TaHig",
        "NlNfDzi0kRJe",
        "gVxKzAbocNcs"
      ],
      "include_colab_link": true
    },
    "kernelspec": {
      "name": "python3",
      "display_name": "Python 3"
    }
  },
  "cells": [
    {
      "cell_type": "markdown",
      "metadata": {
        "id": "view-in-github",
        "colab_type": "text"
      },
      "source": [
        "<a href=\"https://colab.research.google.com/github/fyezool/python-learn/blob/master/python_codecamp.ipynb\" target=\"_parent\"><img src=\"https://colab.research.google.com/assets/colab-badge.svg\" alt=\"Open In Colab\"/></a>"
      ]
    },
    {
      "cell_type": "markdown",
      "metadata": {
        "id": "P1Zjt48wWW8q",
        "colab_type": "text"
      },
      "source": [
        "## Python learning using freecodecamp Videos"
      ]
    },
    {
      "cell_type": "markdown",
      "metadata": {
        "id": "M8BfqObZWj2w",
        "colab_type": "text"
      },
      "source": [
        "### Hello world as usual"
      ]
    },
    {
      "cell_type": "code",
      "metadata": {
        "id": "695PHYHEvgTy",
        "colab_type": "code",
        "outputId": "e653633e-72aa-4740-b4f9-77d40a7b213f",
        "colab": {
          "base_uri": "https://localhost:8080/",
          "height": 34
        }
      },
      "source": [
        "print('Hello')"
      ],
      "execution_count": 0,
      "outputs": [
        {
          "output_type": "stream",
          "text": [
            "Hello\n"
          ],
          "name": "stdout"
        }
      ]
    },
    {
      "cell_type": "code",
      "metadata": {
        "id": "798LrUJVXfhW",
        "colab_type": "code",
        "outputId": "058c0aae-f9ca-402d-e7de-177254ca198f",
        "colab": {
          "base_uri": "https://localhost:8080/",
          "height": 34
        }
      },
      "source": [
        "a = 'Hello pythonggggggg'\n",
        "print(a)"
      ],
      "execution_count": 0,
      "outputs": [
        {
          "output_type": "stream",
          "text": [
            "Hello pythonggggggg\n"
          ],
          "name": "stdout"
        }
      ]
    },
    {
      "cell_type": "markdown",
      "metadata": {
        "id": "EqLuTxhOLwog",
        "colab_type": "text"
      },
      "source": [
        ""
      ]
    },
    {
      "cell_type": "markdown",
      "metadata": {
        "id": "6ttfJI7G_K6O",
        "colab_type": "text"
      },
      "source": [
        "### Draw object"
      ]
    },
    {
      "cell_type": "code",
      "metadata": {
        "id": "VCVcrbh__V-B",
        "colab_type": "code",
        "outputId": "324bff27-4f1b-42ad-fa88-0bad474c1a9b",
        "colab": {
          "base_uri": "https://localhost:8080/",
          "height": 86
        }
      },
      "source": [
        "print(\"   /|\")\n",
        "print(\"  / |\")\n",
        "print(\" /  |\")\n",
        "print(\"/___|\")"
      ],
      "execution_count": 0,
      "outputs": [
        {
          "output_type": "stream",
          "text": [
            "   /|\n",
            "  / |\n",
            " /  |\n",
            "/___|\n"
          ],
          "name": "stdout"
        }
      ]
    },
    {
      "cell_type": "markdown",
      "metadata": {
        "id": "C2l4WLVvCNAC",
        "colab_type": "text"
      },
      "source": [
        "## Variables and Data Types"
      ]
    },
    {
      "cell_type": "code",
      "metadata": {
        "id": "uhnKUuRfCQLN",
        "colab_type": "code",
        "outputId": "18b1de9b-57dc-4627-e4c8-4caee799b478",
        "colab": {
          "base_uri": "https://localhost:8080/",
          "height": 86
        }
      },
      "source": [
        "character_name = \"Mambang\"\n",
        "character_age =  \"3565442543251352\"\n",
        "\n",
        "print(\"There once was a man named \" +character_name + \",\")\n",
        "print(\"he was \" +character_age +\" years old.\")\n",
        "\n",
        "character_name = \"Mike\"\n",
        "print(\"He really liked the named \" +character_name + \",\")\n",
        "print(\"but didnt like being \" +character_age +\".\")\n",
        "\n"
      ],
      "execution_count": 0,
      "outputs": [
        {
          "output_type": "stream",
          "text": [
            "There once was a man named Mambang,\n",
            "he was 3565442543251352 years old.\n",
            "He really liked the named Mike,\n",
            "but didnt like being 3565442543251352.\n"
          ],
          "name": "stdout"
        }
      ]
    },
    {
      "cell_type": "markdown",
      "metadata": {
        "id": "-AaDnd_TaHig",
        "colab_type": "text"
      },
      "source": [
        "## String Manipulation"
      ]
    },
    {
      "cell_type": "code",
      "metadata": {
        "id": "qsH6U0eBaTvM",
        "colab_type": "code",
        "outputId": "dbb0be1a-b8c5-4066-a366-1d527c3fd4f2",
        "colab": {
          "base_uri": "https://localhost:8080/",
          "height": 86
        }
      },
      "source": [
        "print(\"Hey yo\")\n",
        "print(\"Hello \\t yo\")\n",
        "print(\"Hello \\n yo\")\n",
        "\n"
      ],
      "execution_count": 0,
      "outputs": [
        {
          "output_type": "stream",
          "text": [
            "Hey yo\n",
            "Hello \t yo\n",
            "Hello \n",
            " yo\n"
          ],
          "name": "stdout"
        }
      ]
    },
    {
      "cell_type": "code",
      "metadata": {
        "id": "MaFV6oC0bOto",
        "colab_type": "code",
        "outputId": "d0eb3af8-e67d-4542-af37-33be21bd486c",
        "colab": {
          "base_uri": "https://localhost:8080/",
          "height": 69
        }
      },
      "source": [
        "phrase = \"Hello Yo\"\n",
        "print(phrase)\n",
        "print(phrase + \" but whyyyyy\")"
      ],
      "execution_count": 0,
      "outputs": [
        {
          "output_type": "stream",
          "text": [
            "Hello Yo\n",
            "Hello Yo but whyyyyy\n",
            "2\n"
          ],
          "name": "stdout"
        }
      ]
    },
    {
      "cell_type": "code",
      "metadata": {
        "id": "BoId70_5WU8g",
        "colab_type": "code",
        "outputId": "f7ad083e-30ad-44f0-9deb-1387884606b2",
        "colab": {
          "base_uri": "https://localhost:8080/",
          "height": 104
        }
      },
      "source": [
        "## upper and lower function , length\n",
        "print(phrase.upper())\n",
        "print(phrase.lower())\n",
        "print(phrase.isupper())\n",
        "print(phrase.lower().islower())\n",
        "print(len(phrase))"
      ],
      "execution_count": 0,
      "outputs": [
        {
          "output_type": "stream",
          "text": [
            "HELLO YO\n",
            "hello yo\n",
            "False\n",
            "True\n",
            "8\n"
          ],
          "name": "stdout"
        }
      ]
    },
    {
      "cell_type": "code",
      "metadata": {
        "id": "1sjN14wJWUaV",
        "colab_type": "code",
        "outputId": "0e26e34c-00b3-4582-b6d5-d59dac502a2f",
        "colab": {
          "base_uri": "https://localhost:8080/",
          "height": 69
        }
      },
      "source": [
        "## indexing placement and value\n",
        "\n",
        "print(phrase[3])  ##access character using index value ##index start with 0\n",
        "print(phrase.index(\"o\")) ##print index number\n",
        "print(phrase.index(\"llo\"))"
      ],
      "execution_count": 0,
      "outputs": [
        {
          "output_type": "stream",
          "text": [
            "l\n",
            "4\n",
            "2\n"
          ],
          "name": "stdout"
        }
      ]
    },
    {
      "cell_type": "code",
      "metadata": {
        "id": "5tzil8SqV2a5",
        "colab_type": "code",
        "outputId": "e9e9cd31-f925-4ead-cf25-47298a87c1a4",
        "colab": {
          "base_uri": "https://localhost:8080/",
          "height": 52
        }
      },
      "source": [
        "## replacing string\n",
        "print(phrase + \" =>Before replace\")\n",
        "print(phrase.replace(\"Hello\", \"Kontol\") + \" =>Replaced\")"
      ],
      "execution_count": 0,
      "outputs": [
        {
          "output_type": "stream",
          "text": [
            "Hello Yo =>Before replace\n",
            "Kontol Yo =>Replaced\n"
          ],
          "name": "stdout"
        }
      ]
    },
    {
      "cell_type": "markdown",
      "metadata": {
        "id": "NlNfDzi0kRJe",
        "colab_type": "text"
      },
      "source": [
        "### String formatting"
      ]
    },
    {
      "cell_type": "code",
      "metadata": {
        "id": "Ys0w3DaLkUND",
        "colab_type": "code",
        "outputId": "b19696be-f4a3-4938-bcf2-9702df60a455",
        "colab": {
          "base_uri": "https://localhost:8080/",
          "height": 34
        }
      },
      "source": [
        "name =\"John\"\n",
        "age = 35\n",
        " height = \n",
        " weight = \n",
        "print(\"hello %s your age is %d\" % (name, age))\n",
        "\n"
      ],
      "execution_count": 0,
      "outputs": [
        {
          "output_type": "stream",
          "text": [
            "hello John your age is 35\n"
          ],
          "name": "stdout"
        }
      ]
    },
    {
      "cell_type": "markdown",
      "metadata": {
        "id": "gVxKzAbocNcs",
        "colab_type": "text"
      },
      "source": [
        "## Numbers"
      ]
    },
    {
      "cell_type": "code",
      "metadata": {
        "id": "f0JhloOTcPbR",
        "colab_type": "code",
        "outputId": "5d856295-43a5-43f8-ade7-7ef2149aab0c",
        "colab": {
          "base_uri": "https://localhost:8080/",
          "height": 104
        }
      },
      "source": [
        "a = 3\n",
        "b = 4\n",
        "## Addition\n",
        "print(a+b, \"=> addition\")\n",
        "\n",
        "##Substraction\n",
        "print(a - b, \"=> substraction\")\n",
        "\n",
        "## Multiplication\n",
        "print(a * b, \"=> multiply\")\n",
        "\n",
        "## Division\n",
        "print(a / b, \"=> divide\")\n",
        "\n",
        "## Modulo\n",
        "print(a % b, \"=> modulo\")"
      ],
      "execution_count": 0,
      "outputs": [
        {
          "output_type": "stream",
          "text": [
            "7 => addition\n",
            "-1 => substraction\n",
            "12 => multiply\n",
            "0.75 => divide\n",
            "3 => modulo\n"
          ],
          "name": "stdout"
        }
      ]
    },
    {
      "cell_type": "markdown",
      "metadata": {
        "id": "BuP6PUzdTVCT",
        "colab_type": "text"
      },
      "source": [
        "## Using str() method"
      ]
    },
    {
      "cell_type": "code",
      "metadata": {
        "id": "q0uDMwNzTZFT",
        "colab_type": "code",
        "outputId": "2f660663-0d04-4050-afa9-3e35f1064a96",
        "colab": {
          "base_uri": "https://localhost:8080/",
          "height": 173
        }
      },
      "source": [
        "some_text = \"just a damn text i want to use\"\n",
        "some_number = \"8766876\"\n",
        "\n",
        "print(some_text)\n",
        "\n",
        "print(some_number)\n",
        "\n",
        "print(some_number, some_text )\n",
        "\n",
        "print(str(some_number) + \" This number have been converted into some damn string\")\n",
        "\n",
        "print(some_number + \" Added text without converting\")\n",
        "\n",
        "num = -10000\n",
        "print(abs(num) ,\"Absolute value function\")\n",
        "\n",
        "print(pow(2, 10), \"Power of\")\n",
        "\n",
        "## max(), return larger number between comparison\n",
        "print(max(100000,198724893648934,1918908908, 987897897897897), \" Return large number between two value\")\n",
        "\n",
        "## Round the floating number to absolute value\n",
        "print(round(1213.32332))"
      ],
      "execution_count": 0,
      "outputs": [
        {
          "output_type": "stream",
          "text": [
            "just a damn text i want to use\n",
            "8766876\n",
            "8766876 just a damn text i want to use\n",
            "8766876 This number have been converted into some damn string\n",
            "8766876 Added text without converting\n",
            "10000 Absolute value function\n",
            "1024 Power of\n",
            "987897897897897  Return large number between two value\n",
            "1213\n"
          ],
          "name": "stdout"
        }
      ]
    },
    {
      "cell_type": "markdown",
      "metadata": {
        "id": "xXQDio3ZQZpt",
        "colab_type": "text"
      },
      "source": [
        "## function() in math libraries"
      ]
    },
    {
      "cell_type": "code",
      "metadata": {
        "id": "uVsLyaIkdHzX",
        "colab_type": "code",
        "outputId": "9be5d420-6f1c-4bd2-e012-45b0158d7329",
        "colab": {
          "base_uri": "https://localhost:8080/",
          "height": 69
        }
      },
      "source": [
        "## import all math function\n",
        "\n",
        "from math import *\n",
        "\n",
        "print(floor(3.7), \"Round to number lower than (X) values\")\n",
        "\n",
        "print(ceil(3.7), \"round number higher than (X) value\")\n",
        "\n",
        "print(sqrt(1000))"
      ],
      "execution_count": 0,
      "outputs": [
        {
          "output_type": "stream",
          "text": [
            "3 Round to number lower than (X) values\n",
            "4 round number higher than (X) value\n",
            "31.622776601683793\n"
          ],
          "name": "stdout"
        }
      ]
    },
    {
      "cell_type": "markdown",
      "metadata": {
        "id": "lf_tP0V-jDgg",
        "colab_type": "text"
      },
      "source": [
        "## User Input"
      ]
    },
    {
      "cell_type": "code",
      "metadata": {
        "id": "1e7y32j3jI2J",
        "colab_type": "code",
        "colab": {}
      },
      "source": [
        "name = input(\"Enter your name :\")\n",
        "age = input(\"Just key in your goddamn age :\")\n",
        "print(\"hello \" + name + \" your age is \" + age + \". Goddamn youre old\")"
      ],
      "execution_count": 0,
      "outputs": []
    },
    {
      "cell_type": "markdown",
      "metadata": {
        "id": "Y_nl-x4EQQbe",
        "colab_type": "text"
      },
      "source": [
        "## Basic calculator building"
      ]
    },
    {
      "cell_type": "code",
      "metadata": {
        "id": "y2Kwaf-NQTg2",
        "colab_type": "code",
        "outputId": "1d086c50-381f-42ba-95f6-bf30ee7dbd41",
        "colab": {
          "base_uri": "https://localhost:8080/",
          "height": 141
        }
      },
      "source": [
        "print(\"------------------------------------------------\")\n",
        "print(\"This stupid calculator can add numbers, use wisely\")\n",
        "print(\"------------------------------------------------\")\n",
        "\n",
        "\n",
        "FirstNumber = float(input(\"Enter the first number :\")) #typecasting\n",
        "SecondNumber = float(input(\"Enter the second number :\"))\n",
        "numberSum = FirstNumber + SecondNumber\n",
        "print(\"After the meeting with elders, it is decided that the sum of the numbers that have been inserted by you is\", +numberSum )\n",
        "\n",
        "\n"
      ],
      "execution_count": 0,
      "outputs": [
        {
          "output_type": "stream",
          "text": [
            "------------------------------------------------\n",
            "This stupid calculator can add numbers, use wisely\n",
            "------------------------------------------------\n",
            "Enter the first number :23\n",
            "Enter the second number :2556\n",
            "After the meeting with elders, it is decided that the sum of the numbers that have been inserted by you is 2579.0\n"
          ],
          "name": "stdout"
        }
      ]
    },
    {
      "cell_type": "markdown",
      "metadata": {
        "id": "4rbQL43CWa6y",
        "colab_type": "text"
      },
      "source": [
        "## Mad libs Game"
      ]
    },
    {
      "cell_type": "code",
      "metadata": {
        "id": "ChQdFsEsWfVZ",
        "colab_type": "code",
        "outputId": "e956e6bd-4a1f-4826-9d3f-1cce86a54ac1",
        "colab": {
          "base_uri": "https://localhost:8080/",
          "height": 34
        }
      },
      "source": [
        "\n",
        "\n",
        "\n",
        "print(\"Ferrari are {color}\")\n",
        "print(\"{team_name} are blue\")\n",
        "print(\"{place} is long\") \n",
        "print(\"{name} will cry too\")"
      ],
      "execution_count": 0,
      "outputs": [
        {
          "output_type": "stream",
          "text": [
            "\n"
          ],
          "name": "stdout"
        }
      ]
    }
  ]
}