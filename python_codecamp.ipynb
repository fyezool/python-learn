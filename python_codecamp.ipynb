{
 "cells": [
  {
   "cell_type": "markdown",
   "metadata": {
    "colab_type": "text",
    "id": "P1Zjt48wWW8q"
   },
   "source": [
    "<h2> Python learning using freecodecamp Videos <h2>"
   ]
  },
  {
   "cell_type": "markdown",
   "metadata": {
    "colab_type": "text",
    "id": "M8BfqObZWj2w"
   },
   "source": [
    "## Hello world as usual"
   ]
  },
  {
   "cell_type": "code",
   "execution_count": null,
   "metadata": {
    "colab": {
     "base_uri": "https://localhost:8080/",
     "height": 34
    },
    "colab_type": "code",
    "id": "695PHYHEvgTy",
    "jupyter": {
     "source_hidden": true
    },
    "outputId": "e653633e-72aa-4740-b4f9-77d40a7b213f"
   },
   "outputs": [],
   "source": [
    "print('Hello')"
   ]
  },
  {
   "cell_type": "code",
   "execution_count": null,
   "metadata": {
    "colab": {
     "base_uri": "https://localhost:8080/",
     "height": 34
    },
    "colab_type": "code",
    "id": "798LrUJVXfhW",
    "jupyter": {
     "source_hidden": true
    },
    "outputId": "058c0aae-f9ca-402d-e7de-177254ca198f"
   },
   "outputs": [],
   "source": [
    "a = 'Hello pythonggggggg'\n",
    "print(a)"
   ]
  },
  {
   "cell_type": "markdown",
   "metadata": {
    "colab_type": "text",
    "id": "6ttfJI7G_K6O"
   },
   "source": [
    "## Draw object"
   ]
  },
  {
   "cell_type": "code",
   "execution_count": null,
   "metadata": {
    "colab": {
     "base_uri": "https://localhost:8080/",
     "height": 86
    },
    "colab_type": "code",
    "id": "VCVcrbh__V-B",
    "jupyter": {
     "source_hidden": true
    },
    "outputId": "324bff27-4f1b-42ad-fa88-0bad474c1a9b"
   },
   "outputs": [],
   "source": [
    "print(\"   /|\")\n",
    "print(\"  / |\")\n",
    "print(\" /  |\")\n",
    "print(\"/___|\")"
   ]
  },
  {
   "cell_type": "markdown",
   "metadata": {
    "colab_type": "text",
    "id": "C2l4WLVvCNAC"
   },
   "source": [
    "## Variables and Data Types"
   ]
  },
  {
   "cell_type": "code",
   "execution_count": null,
   "metadata": {
    "colab": {
     "base_uri": "https://localhost:8080/",
     "height": 86
    },
    "colab_type": "code",
    "id": "uhnKUuRfCQLN",
    "jupyter": {
     "source_hidden": true
    },
    "outputId": "18b1de9b-57dc-4627-e4c8-4caee799b478"
   },
   "outputs": [],
   "source": [
    "character_name = \"Mambang\"\n",
    "character_age =  \"3565442543251352\"\n",
    "\n",
    "print(\"There once was a man named \" +character_name + \",\")\n",
    "print(\"he was \" +character_age +\" years old.\")\n",
    "\n",
    "character_name = \"Mike\"\n",
    "print(\"He really liked the named \" +character_name + \",\")\n",
    "print(\"but didnt like being \" +character_age +\".\")\n",
    "\n"
   ]
  },
  {
   "cell_type": "markdown",
   "metadata": {
    "colab_type": "text",
    "id": "-AaDnd_TaHig"
   },
   "source": [
    "## String Manipulation"
   ]
  },
  {
   "cell_type": "code",
   "execution_count": null,
   "metadata": {
    "colab": {
     "base_uri": "https://localhost:8080/",
     "height": 86
    },
    "colab_type": "code",
    "id": "qsH6U0eBaTvM",
    "jupyter": {
     "source_hidden": true
    },
    "outputId": "dbb0be1a-b8c5-4066-a366-1d527c3fd4f2"
   },
   "outputs": [],
   "source": [
    "print(\"Hey yo\")\n",
    "print(\"Hello \\t yo\")\n",
    "print(\"Hello \\n yo\")\n",
    "\n"
   ]
  },
  {
   "cell_type": "code",
   "execution_count": null,
   "metadata": {
    "colab": {
     "base_uri": "https://localhost:8080/",
     "height": 69
    },
    "colab_type": "code",
    "id": "MaFV6oC0bOto",
    "jupyter": {
     "source_hidden": true
    },
    "outputId": "d0eb3af8-e67d-4542-af37-33be21bd486c"
   },
   "outputs": [],
   "source": [
    "phrase = \"Hello Yo\"\n",
    "print(phrase)\n",
    "print(phrase + \" but whyyyyy\")"
   ]
  },
  {
   "cell_type": "code",
   "execution_count": null,
   "metadata": {
    "colab": {
     "base_uri": "https://localhost:8080/",
     "height": 104
    },
    "colab_type": "code",
    "id": "BoId70_5WU8g",
    "jupyter": {
     "source_hidden": true
    },
    "outputId": "f7ad083e-30ad-44f0-9deb-1387884606b2"
   },
   "outputs": [],
   "source": [
    "## upper and lower function , length\n",
    "print(phrase.upper())\n",
    "print(phrase.lower())\n",
    "print(phrase.isupper())\n",
    "print(phrase.lower().islower())\n",
    "print(len(phrase))"
   ]
  },
  {
   "cell_type": "code",
   "execution_count": null,
   "metadata": {
    "colab": {},
    "colab_type": "code",
    "id": "1sjN14wJWUaV",
    "jupyter": {
     "source_hidden": true
    }
   },
   "outputs": [],
   "source": [
    "## indexing placement and value\n",
    "\n",
    "print(phrase[3])  ##access character using index value ##index start with 0\n",
    "print(phrase.index(\"o\")) ##print index number\n",
    "print(phrase.index(\"llo\"))"
   ]
  },
  {
   "cell_type": "code",
   "execution_count": null,
   "metadata": {
    "colab": {},
    "colab_type": "code",
    "id": "5tzil8SqV2a5",
    "jupyter": {
     "source_hidden": true
    }
   },
   "outputs": [],
   "source": [
    "## replacing string\n",
    "print(phrase + \" =>Before replace\")\n",
    "print(phrase.replace(\"Hello\", \"Kontol\") + \" =>Replaced\")"
   ]
  },
  {
   "cell_type": "markdown",
   "metadata": {
    "colab_type": "text",
    "id": "NlNfDzi0kRJe"
   },
   "source": [
    "### String formatting"
   ]
  },
  {
   "cell_type": "code",
   "execution_count": null,
   "metadata": {
    "colab": {
     "base_uri": "https://localhost:8080/",
     "height": 34
    },
    "colab_type": "code",
    "id": "Ys0w3DaLkUND",
    "jupyter": {
     "source_hidden": true
    },
    "outputId": "b19696be-f4a3-4938-bcf2-9702df60a455"
   },
   "outputs": [],
   "source": [
    "name =\"John\"\n",
    "age = 35\n",
    " height = \n",
    " weight = \n",
    "print(\"hello %s your age is %d\" % (name, age))\n",
    "\n"
   ]
  },
  {
   "cell_type": "markdown",
   "metadata": {
    "colab_type": "text",
    "id": "gVxKzAbocNcs"
   },
   "source": [
    "## Numbers"
   ]
  },
  {
   "cell_type": "code",
   "execution_count": null,
   "metadata": {
    "colab": {
     "base_uri": "https://localhost:8080/",
     "height": 104
    },
    "colab_type": "code",
    "id": "f0JhloOTcPbR",
    "jupyter": {
     "source_hidden": true
    },
    "outputId": "5d856295-43a5-43f8-ade7-7ef2149aab0c"
   },
   "outputs": [],
   "source": [
    "a = 3\n",
    "b = 4\n",
    "## Addition\n",
    "print(a+b, \"=> addition\")\n",
    "\n",
    "##Substraction\n",
    "print(a - b, \"=> substraction\")\n",
    "\n",
    "## Multiplication\n",
    "print(a * b, \"=> multiply\")\n",
    "\n",
    "## Division\n",
    "print(a / b, \"=> divide\")\n",
    "\n",
    "## Modulo\n",
    "print(a % b, \"=> modulo\")"
   ]
  },
  {
   "cell_type": "markdown",
   "metadata": {
    "colab_type": "text",
    "id": "BuP6PUzdTVCT"
   },
   "source": [
    "## Using str() method"
   ]
  },
  {
   "cell_type": "code",
   "execution_count": null,
   "metadata": {
    "colab": {
     "base_uri": "https://localhost:8080/",
     "height": 173
    },
    "colab_type": "code",
    "id": "q0uDMwNzTZFT",
    "jupyter": {
     "source_hidden": true
    },
    "outputId": "2f660663-0d04-4050-afa9-3e35f1064a96"
   },
   "outputs": [],
   "source": [
    "some_text = \"just a damn text i want to use\"\n",
    "some_number = \"8766876\"\n",
    "\n",
    "print(some_text)\n",
    "\n",
    "print(some_number)\n",
    "\n",
    "print(some_number, some_text )\n",
    "\n",
    "print(str(some_number) + \" This number have been converted into some damn string\")\n",
    "\n",
    "print(some_number + \" Added text without converting\")\n",
    "\n",
    "num = -10000\n",
    "print(abs(num) ,\"Absolute value function\")\n",
    "\n",
    "print(pow(2, 10), \"Power of\")\n",
    "\n",
    "## max(), return larger number between comparison\n",
    "print(max(100000,198724893648934,1918908908, 987897897897897), \" Return large number between two value\")\n",
    "\n",
    "## Round the floating number to absolute value\n",
    "print(round(1213.32332))"
   ]
  },
  {
   "cell_type": "markdown",
   "metadata": {
    "colab_type": "text",
    "id": "xXQDio3ZQZpt"
   },
   "source": [
    "## function() in math libraries"
   ]
  },
  {
   "cell_type": "code",
   "execution_count": null,
   "metadata": {
    "colab": {
     "base_uri": "https://localhost:8080/",
     "height": 69
    },
    "colab_type": "code",
    "id": "uVsLyaIkdHzX",
    "jupyter": {
     "source_hidden": true
    },
    "outputId": "9be5d420-6f1c-4bd2-e012-45b0158d7329"
   },
   "outputs": [],
   "source": [
    "## import all math function\n",
    "\n",
    "from math import *\n",
    "\n",
    "print(floor(3.7), \"Round to number lower than (X) values\")\n",
    "\n",
    "print(ceil(3.7), \"round number higher than (X) value\")\n",
    "\n",
    "print(sqrt(1000))"
   ]
  },
  {
   "cell_type": "markdown",
   "metadata": {
    "colab_type": "text",
    "id": "lf_tP0V-jDgg"
   },
   "source": [
    "## User Input"
   ]
  },
  {
   "cell_type": "code",
   "execution_count": null,
   "metadata": {
    "colab": {},
    "colab_type": "code",
    "id": "1e7y32j3jI2J",
    "jupyter": {
     "source_hidden": true
    }
   },
   "outputs": [],
   "source": [
    "name = input(\"Enter your name :\")\n",
    "age = input(\"Just key in your goddamn age :\")\n",
    "print(\"hello \" + name + \" your age is \" + age + \". Goddamn youre old\")"
   ]
  },
  {
   "cell_type": "markdown",
   "metadata": {
    "colab_type": "text",
    "id": "Y_nl-x4EQQbe"
   },
   "source": [
    "## Basic calculator building"
   ]
  },
  {
   "cell_type": "code",
   "execution_count": null,
   "metadata": {
    "colab": {},
    "colab_type": "code",
    "id": "y2Kwaf-NQTg2",
    "jupyter": {
     "source_hidden": true
    }
   },
   "outputs": [],
   "source": [
    "print(\"------------------------------------------------\")\n",
    "print(\"This stupid calculator can add numbers, use wisely\")\n",
    "print(\"------------------------------------------------\")\n",
    "\n",
    "\n",
    "FirstNumber = float(input(\"Enter the first number :\")) #typecasting\n",
    "SecondNumber = float(input(\"Enter the second number :\"))\n",
    "numberSum = FirstNumber + SecondNumber\n",
    "print(\"After the meeting with elders, it is decided that the sum of the numbers that have been inserted by you is\", +numberSum )\n",
    "\n",
    "\n"
   ]
  },
  {
   "cell_type": "markdown",
   "metadata": {
    "colab_type": "text",
    "id": "4rbQL43CWa6y"
   },
   "source": [
    "## Mad libs Game"
   ]
  },
  {
   "cell_type": "code",
   "execution_count": null,
   "metadata": {
    "colab": {},
    "colab_type": "code",
    "id": "ChQdFsEsWfVZ",
    "jupyter": {
     "source_hidden": true
    }
   },
   "outputs": [],
   "source": [
    "color = input(\"Enter the color of your choice :\")\n",
    "team_name = input(\"Enter the F1 team of your choice :\")\n",
    "place = input(\"Enter your favourite F1 venue :\")\n",
    "name = input(\"Enter your F1 favourite pilot :\")\n",
    "print(\"\\n------------------------------------\")\n",
    "print(\"\\nFerrari are \" + color)\n",
    "print(team_name+ \" are blue\")\n",
    "print(place + \" is long\") \n",
    "print(name + \" will cry too\")"
   ]
  },
  {
   "cell_type": "markdown",
   "metadata": {
    "colab_type": "text",
    "id": "hXpCtLR5WEu_"
   },
   "source": [
    "## List"
   ]
  },
  {
   "cell_type": "code",
   "execution_count": null,
   "metadata": {
    "colab": {
     "base_uri": "https://localhost:8080/",
     "height": 34
    },
    "colab_type": "code",
    "id": "XXmdMz6GYXmf",
    "jupyter": {
     "source_hidden": true
    },
    "outputId": "7015e75c-34f4-4b9c-dafe-afdc61bd9dfe",
    "scrolled": true
   },
   "outputs": [],
   "source": [
    "## List used for manage and store data\n",
    "## List use sq bracket\n",
    "## can be numbers, string, boolean\n",
    "\n",
    "friends = [\"kevin\", \"mambang\", \"thanos\", \"tohdek\"]"
   ]
  },
  {
   "cell_type": "code",
   "execution_count": null,
   "metadata": {
    "colab": {
     "base_uri": "https://localhost:8080/",
     "height": 34
    },
    "colab_type": "code",
    "id": "XXmdMz6GYXmf",
    "jupyter": {
     "source_hidden": true
    },
    "outputId": "7015e75c-34f4-4b9c-dafe-afdc61bd9dfe",
    "scrolled": true
   },
   "outputs": [],
   "source": [
    "# well, this one self-explain\n",
    "print(friends[0])"
   ]
  },
  {
   "cell_type": "code",
   "execution_count": null,
   "metadata": {
    "colab": {
     "base_uri": "https://localhost:8080/",
     "height": 34
    },
    "colab_type": "code",
    "id": "XXmdMz6GYXmf",
    "jupyter": {
     "source_hidden": true
    },
    "outputId": "7015e75c-34f4-4b9c-dafe-afdc61bd9dfe",
    "scrolled": true
   },
   "outputs": [],
   "source": [
    "##Multiple value print\n",
    "print(friends[1:3])"
   ]
  },
  {
   "cell_type": "code",
   "execution_count": null,
   "metadata": {
    "colab": {
     "base_uri": "https://localhost:8080/",
     "height": 34
    },
    "colab_type": "code",
    "id": "XXmdMz6GYXmf",
    "jupyter": {
     "source_hidden": true
    },
    "outputId": "7015e75c-34f4-4b9c-dafe-afdc61bd9dfe",
    "scrolled": true
   },
   "outputs": [],
   "source": [
    "    #include <stdio.h>\n",
    "\n",
    "    int main (void)\n",
    "    {\n",
    "        float values[10] = {0};\n",
    "\n",
    "        for ( int i = 0; i <= 10; i++ )\n",
    "        {\n",
    "            printf(\"Enter the %ith number: \", i);\n",
    "            scanf(\"%f\", &values[i]);\n",
    "            printf(\"\\n\");\n",
    "        }\n",
    "    }##Change value\n",
    "friends[1] = \"Mike\"\n",
    "print(friends)"
   ]
  },
  {
   "cell_type": "markdown",
   "metadata": {},
   "source": [
    "## List Functions"
   ]
  },
  {
   "cell_type": "code",
   "execution_count": null,
   "metadata": {
    "jupyter": {
     "source_hidden": true
    }
   },
   "outputs": [],
   "source": [
    "lucky_numbers = [4, 8, 15, 16, 23, 42]\n",
    "name = [\"Mike\", \"Chew\", \"Amirul\", \"Rouffy\"]"
   ]
  },
  {
   "cell_type": "code",
   "execution_count": null,
   "metadata": {
    "jupyter": {
     "source_hidden": true
    }
   },
   "outputs": [],
   "source": [
    "## append individual element\n",
    "name.append(\"Nigga\")\n",
    "print(name, \"Appended inividial list\")"
   ]
  },
  {
   "cell_type": "code",
   "execution_count": null,
   "metadata": {
    "jupyter": {
     "source_hidden": true
    }
   },
   "outputs": [],
   "source": [
    "## Insert method\n",
    "name.insert(1, \"Anli\")\n",
    "print(name, \"Inserted new element\")"
   ]
  },
  {
   "cell_type": "code",
   "execution_count": null,
   "metadata": {
    "jupyter": {
     "source_hidden": true
    }
   },
   "outputs": [],
   "source": [
    "## Remove method\n",
    "name.remove(\"Chew\")\n",
    "print(name, \"removed chew\")"
   ]
  },
  {
   "cell_type": "code",
   "execution_count": null,
   "metadata": {
    "jupyter": {
     "source_hidden": true
    }
   },
   "outputs": [],
   "source": [
    "## clear method\n",
    "name.clear()\n",
    "print(name) "
   ]
  },
  {
   "cell_type": "code",
   "execution_count": null,
   "metadata": {
    "jupyter": {
     "source_hidden": true
    }
   },
   "outputs": [],
   "source": [
    "## index\n",
    "print(name.index(\"Amirul\"))"
   ]
  },
  {
   "cell_type": "code",
   "execution_count": null,
   "metadata": {
    "jupyter": {
     "source_hidden": true
    }
   },
   "outputs": [],
   "source": [
    "## pop method\n",
    "## pop method remove last element in list\n",
    "name.pop()\n",
    "print(name)"
   ]
  },
  {
   "cell_type": "code",
   "execution_count": null,
   "metadata": {
    "jupyter": {
     "source_hidden": true
    }
   },
   "outputs": [],
   "source": [
    "## Count method\n",
    "## Count how many elements\n",
    "new_name = [\"Brian\", \"Brian\", \"Brian\", \"Umer\"]\n",
    "print(new_name.count(\"Brian\"))"
   ]
  },
  {
   "cell_type": "code",
   "execution_count": null,
   "metadata": {
    "jupyter": {
     "source_hidden": true
    }
   },
   "outputs": [],
   "source": [
    "## Sort elements in list\n",
    "## default in ascending order\n",
    "\n",
    "name.sort()\n",
    "print(name)"
   ]
  },
  {
   "cell_type": "code",
   "execution_count": null,
   "metadata": {
    "jupyter": {
     "source_hidden": true
    }
   },
   "outputs": [],
   "source": [
    "## sorting number in ascending sequence\n",
    "\n",
    "lucky_numbers.sort()\n",
    "print(lucky_numbers)"
   ]
  },
  {
   "cell_type": "code",
   "execution_count": null,
   "metadata": {
    "jupyter": {
     "source_hidden": true
    }
   },
   "outputs": [],
   "source": [
    "## Reversing element in list\n",
    "## Descending order\n",
    "\n",
    "lucky_numbers.reverse()\n",
    "print(lucky_numbers)"
   ]
  },
  {
   "cell_type": "code",
   "execution_count": null,
   "metadata": {
    "jupyter": {
     "source_hidden": true
    }
   },
   "outputs": [],
   "source": [
    "## copy function\n",
    "## copy the whole element in list\n",
    "\n",
    "name2 = name.copy()\n",
    "print(name)"
   ]
  },
  {
   "cell_type": "markdown",
   "metadata": {},
   "source": [
    "## Tuple"
   ]
  },
  {
   "cell_type": "markdown",
   "metadata": {
    "jupyter": {
     "source_hidden": true
    }
   },
   "source": [
    "- type of data structure\n",
    "- container to store different values\n",
    "- used for data likes coordinate\n",
    "- use open parentheses\n",
    "- tuples cant changed or modified\n",
    "- mutated data like coordinate"
   ]
  },
  {
   "cell_type": "code",
   "execution_count": null,
   "metadata": {
    "jupyter": {
     "source_hidden": true
    }
   },
   "outputs": [],
   "source": [
    "coordinates = [(4,5),(54,2),(1,2),(14,78867) ]\n",
    "coordinates[1] = 10\n",
    "print(coordinates[1])"
   ]
  },
  {
   "cell_type": "markdown",
   "metadata": {},
   "source": [
    "## Functions"
   ]
  },
  {
   "cell_type": "code",
   "execution_count": null,
   "metadata": {
    "jupyter": {
     "source_hidden": true
    }
   },
   "outputs": [],
   "source": [
    "def sayhi(): ##line after this will be inside function\n",
    "    print(\"Hey bro\")\n",
    "\n",
    "print(\"Top\")\n",
    "sayhi()\n",
    "print(\"Bottom\")"
   ]
  },
  {
   "cell_type": "code",
   "execution_count": null,
   "metadata": {
    "jupyter": {
     "source_hidden": true
    }
   },
   "outputs": [],
   "source": [
    "def say_hi(name, age):\n",
    "    print(\"Hello \" + name + \"You are \" + str(age) + \" years old\")\n",
    "    \n",
    "say_hi(\"Mike\", 121233)\n",
    "say_hi(\"Mambang\", 21132)\n",
    "say_hi(\"Chew\", 6)"
   ]
  },
  {
   "cell_type": "markdown",
   "metadata": {},
   "source": [
    "## Return Statements"
   ]
  },
  {
   "cell_type": "code",
   "execution_count": null,
   "metadata": {
    "jupyter": {
     "source_hidden": true
    }
   },
   "outputs": [],
   "source": [
    "def cube(num):\n",
    "   return num*num*num\n",
    "\n",
    "result = cube(4)\n",
    "print(result)"
   ]
  },
  {
   "cell_type": "markdown",
   "metadata": {},
   "source": [
    "## IF - Statements"
   ]
  },
  {
   "cell_type": "code",
   "execution_count": null,
   "metadata": {
    "jupyter": {
     "source_hidden": true
    }
   },
   "outputs": [],
   "source": [
    "a = int(input(\"Enter the desired number\"))\n",
    "\n",
    "if a < 1:\n",
    "    print(\"A i bitch\")\n",
    "else:\n",
    "    print(\"A is good\")"
   ]
  },
  {
   "cell_type": "markdown",
   "metadata": {},
   "source": [
    "##### Side Note \n",
    "-    **=** is assignment operator while **==** is equality"
   ]
  },
  {
   "cell_type": "markdown",
   "metadata": {},
   "source": [
    "## A better calculator, with IF or SWITCH"
   ]
  },
  {
   "cell_type": "code",
   "execution_count": null,
   "metadata": {
    "jupyter": {
     "source_hidden": true
    }
   },
   "outputs": [],
   "source": [
    "## using bare if elif\n",
    "\n",
    "a = input(\"Enter the desired operation, e.g (- + / or *)\")\n",
    "firstnum = int(input(\"Enter the first number\"))\n",
    "secondnum = int(input(\"Enter the second number\"))\n",
    "\n",
    "if a == \"+\":\n",
    "    sum = firstnum + secondnum\n",
    "    print(sum)\n",
    "elif a == \"-\":\n",
    "    sum = firstnum - secondnum\n",
    "    print(sum)\n",
    "elif a == \"/\":\n",
    "    sum = firstnum / secondnum\n",
    "    print(sum)\n",
    "elif a == \"*\":\n",
    "    sum = firstnum * secondnum\n",
    "    print(sum)"
   ]
  },
  {
   "cell_type": "code",
   "execution_count": 3,
   "metadata": {
    "jupyter": {
     "source_hidden": true
    }
   },
   "outputs": [],
   "source": [
    "## apparently no switch-case available for python"
   ]
  },
  {
   "cell_type": "markdown",
   "metadata": {},
   "source": [
    "## Dictionaries"
   ]
  },
  {
   "cell_type": "code",
   "execution_count": null,
   "metadata": {},
   "outputs": [],
   "source": [
    "## special structures in python that allow us to store information\n",
    "## key-value pair\n",
    "\n"
   ]
  },
  {
   "cell_type": "markdown",
   "metadata": {},
   "source": [
    "## While Loop"
   ]
  },
  {
   "cell_type": "code",
   "execution_count": null,
   "metadata": {},
   "outputs": [],
   "source": []
  },
  {
   "cell_type": "markdown",
   "metadata": {},
   "source": [
    "## Guessing game building"
   ]
  },
  {
   "cell_type": "code",
   "execution_count": null,
   "metadata": {},
   "outputs": [],
   "source": []
  },
  {
   "cell_type": "markdown",
   "metadata": {},
   "source": [
    "## For Loop"
   ]
  },
  {
   "cell_type": "code",
   "execution_count": null,
   "metadata": {},
   "outputs": [],
   "source": []
  },
  {
   "cell_type": "markdown",
   "metadata": {},
   "source": [
    "## Exponent Function"
   ]
  },
  {
   "cell_type": "code",
   "execution_count": null,
   "metadata": {},
   "outputs": [],
   "source": []
  },
  {
   "cell_type": "markdown",
   "metadata": {},
   "source": [
    "## 2D list & Nested Loop"
   ]
  },
  {
   "cell_type": "code",
   "execution_count": null,
   "metadata": {},
   "outputs": [],
   "source": []
  },
  {
   "cell_type": "markdown",
   "metadata": {},
   "source": [
    "## Build Translator"
   ]
  },
  {
   "cell_type": "code",
   "execution_count": null,
   "metadata": {},
   "outputs": [],
   "source": []
  },
  {
   "cell_type": "markdown",
   "metadata": {},
   "source": [
    "## Comments"
   ]
  },
  {
   "cell_type": "code",
   "execution_count": null,
   "metadata": {},
   "outputs": [],
   "source": []
  },
  {
   "cell_type": "markdown",
   "metadata": {},
   "source": [
    "## Try Except"
   ]
  },
  {
   "cell_type": "code",
   "execution_count": null,
   "metadata": {},
   "outputs": [],
   "source": []
  },
  {
   "cell_type": "markdown",
   "metadata": {},
   "source": [
    "## Reading files"
   ]
  },
  {
   "cell_type": "code",
   "execution_count": null,
   "metadata": {},
   "outputs": [],
   "source": []
  },
  {
   "cell_type": "markdown",
   "metadata": {},
   "source": [
    "## Writing files"
   ]
  },
  {
   "cell_type": "code",
   "execution_count": null,
   "metadata": {},
   "outputs": [],
   "source": []
  },
  {
   "cell_type": "markdown",
   "metadata": {},
   "source": [
    "## References\n",
    "\n",
    "+ programming with Python https://swcarpentry.github.io/python-novice-inflammation/index.html\n",
    "+ DataFrame Visualization https://kanoki.org/2019/09/16/dataframe-visualization-with-pandas-plot/"
   ]
  }
 ],
 "metadata": {
  "colab": {
   "collapsed_sections": [
    "M8BfqObZWj2w",
    "6ttfJI7G_K6O",
    "C2l4WLVvCNAC",
    "-AaDnd_TaHig",
    "NlNfDzi0kRJe",
    "gVxKzAbocNcs",
    "BuP6PUzdTVCT",
    "xXQDio3ZQZpt",
    "lf_tP0V-jDgg",
    "Y_nl-x4EQQbe",
    "4rbQL43CWa6y"
   ],
   "include_colab_link": true,
   "name": "python-codecamp.ipynb",
   "provenance": [],
   "version": "0.3.2"
  },
  "kernelspec": {
   "display_name": "Python 3",
   "language": "python",
   "name": "python3"
  },
  "language_info": {
   "codemirror_mode": {
    "name": "ipython",
    "version": 3
   },
   "file_extension": ".py",
   "mimetype": "text/x-python",
   "name": "python",
   "nbconvert_exporter": "python",
   "pygments_lexer": "ipython3",
   "version": "3.7.3"
  }
 },
 "nbformat": 4,
 "nbformat_minor": 4
}
